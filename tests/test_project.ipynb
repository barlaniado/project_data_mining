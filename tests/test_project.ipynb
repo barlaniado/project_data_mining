{
 "cells": [
  {
   "cell_type": "code",
   "execution_count": 2,
   "metadata": {
    "collapsed": false
   },
   "outputs": [
   ],
   "source": [
    "import json"
   ]
  },
  {
   "cell_type": "code",
   "execution_count": 3,
   "metadata": {
    "collapsed": false
   },
   "outputs": [
   ],
   "source": [
    "import sys\n",
    "sys.path.append('./project_data_mining')\n",
    "import utilities\n",
    "import requests_webpages\n",
    "from bs4 import BeautifulSoup\n",
    "import project_conf"
   ]
  },
  {
   "cell_type": "code",
   "execution_count": 4,
   "metadata": {
    "collapsed": false
   },
   "outputs": [
   ],
   "source": [
    "# load daily data\n",
    "with open('project_data_mining/1613879942.508324_daily_data.json') as data:\n",
    "  daily_data = json.load(data)"
   ]
  },
  {
   "cell_type": "code",
   "execution_count": 5,
   "metadata": {
    "collapsed": false,
    "scrolled": true
   },
   "outputs": [
    {
     "data": {
      "text/plain": [
       "{'Time': '2021-02-20 20:22:09.853740',\n",
       " 'Price': '129.87',\n",
       " 'Price change': '+0.16',\n",
       " 'Percentage': '+0.12%',\n",
       " 'Volume': '87.669M',\n",
       " 'Avg Vol (3 month)': '103.578M'}"
      ]
     },
     "execution_count": 5,
     "metadata": {
     },
     "output_type": "execute_result"
    }
   ],
   "source": [
    "daily_data['AAPL']"
   ]
  },
  {
   "cell_type": "code",
   "execution_count": 6,
   "metadata": {
    "collapsed": false
   },
   "outputs": [
   ],
   "source": [
    "def test_get_price():\n",
    "    # Basic Materials\n",
    "    assert float(daily_data['RPM']['Price']) == 83.11\n",
    "    assert float(daily_data['WPM']['Price']) == 37.65\n",
    "    assert float(daily_data['GOLD']['Price']) == 19.78\n",
    "    assert float(daily_data['RIO']['Price']) == 89.99\n",
    "    assert float(daily_data['X']['Price']) == 17.9\n",
    "    assert float(daily_data['OLN']['Price']) == 29.98\n",
    "    assert float(daily_data['NEU']['Price']) == 394.04\n",
    "    assert float(daily_data['SA']['Price']) == 18.25\n",
    "    assert float(daily_data['RYAM']['Price']) == 8.7\n",
    "    assert float(daily_data['SPPP']['Price']) == 18.56\n",
    "    assert float(daily_data['CGA']['Price']) == 5.35\n",
    "    # Communication Services\n",
    "    assert float(daily_data['GOOG']['Price'].replace(\",\",\"\")) == 2101.14\n",
    "    assert float(daily_data['FB']['Price']) ==261.56\n",
    "    assert float(daily_data['KT']['Price']) == 11.75\n",
    "    assert float(daily_data['YELP']['Price']) == 36.15\n",
    "    assert float(daily_data['GTN-A']['Price']) == 17.38\n",
    "    # Consumer Cyclical\n",
    "    assert float(daily_data['AMZN']['Price'].replace(\",\",\"\")) == 3249.9\n",
    "    assert float(daily_data['IP']['Price']) == 48.95\n",
    "    assert float(daily_data['TNL']['Price']) == 55.25\n",
    "    # Consumer Defensive\n",
    "    assert float(daily_data['WMT']['Price']) == 138.34\n",
    "    assert float(daily_data['GO']['Price']) == 41.48\n",
    "    assert float(daily_data['KOF']['Price']) == 45.19\n",
    "    # Energy\n",
    "    assert float(daily_data['VLO']['Price']) == 71.53\n",
    "    assert float(daily_data['ALIN-PB']['Price']) == 23.03\n",
    "    assert float(daily_data['TGP-PB']['Price']) == 25.56\n",
    "    # Financial Services\n",
    "    assert float(daily_data['V']['Price']) == 204.73\n",
    "    assert float(daily_data['AXP']['Price']) == 131.71\n",
    "    assert float(daily_data['FULTP']['Price']) == 25.72\n",
    "    # Healthcare\n",
    "    assert float(daily_data['BDX']['Price']) == 247.93\n",
    "    assert float(daily_data['MRNA']['Price']) == 174.74\n",
    "    assert float(daily_data['TFX']['Price']) == 390.43\n",
    "    # Industrials\n",
    "    assert float(daily_data['CNI']['Price']) == 109.08\n",
    "    assert float(daily_data['DAL']['Price']) == 45.67\n",
    "    assert float(daily_data['J']['Price']) == 112.41\n",
    "    # Real Estate\n",
    "    assert float(daily_data['WY']['Price']) == 34.99\n",
    "    assert float(daily_data['OPEN']['Price']) == 31.58\n",
    "    assert float(daily_data['JLL']['Price']) == 156.92\n",
    "    # Utilities\n",
    "    assert float(daily_data['ES']['Price']) == 81.46\n",
    "    assert float(daily_data['HE']['Price']) == 35.02\n",
    "    assert float(daily_data['JE']['Price']) == 5.77\n",
    "    # Technology\n",
    "    assert float(daily_data['AAPL']['Price']) == 129.87\n",
    "    assert float(daily_data['TSM']['Price']) == 136.66\n",
    "    assert float(daily_data['CRM']['Price']) == 246.56\n",
    "\n"
   ]
  },
  {
   "cell_type": "code",
   "execution_count": 7,
   "metadata": {
    "collapsed": false
   },
   "outputs": [
   ],
   "source": [
    "def test_get_change():\n",
    "    # Basic Materials\n",
    "    assert daily_data['ICL']['Price change'] == '+0.07'\n",
    "    assert daily_data['X']['Price change'] == '+0.90'\n",
    "    assert daily_data['SUM']['Price change'] == '+2.12'\n",
    "    # Communication Services\n",
    "    assert daily_data['Z']['Price change'] == '-0.03'\n",
    "    assert daily_data['IQ']['Price change'] == '-0.89'\n",
    "    assert daily_data['IPG']['Price change'] == '+0.75'\n",
    "    # Consumer Cyclical\n",
    "    assert daily_data['BABA']['Price change'] == '-0.92'\n",
    "    assert daily_data['TSLA']['Price change'] == '-6.08'\n",
    "    assert daily_data['EBAYL']['Price change'] == '-0.02'\n",
    "    # Consumer Defensive\n",
    "    assert daily_data['UL']['Price change'] == '-1.24'\n",
    "    assert daily_data['CL']['Price change'] == '-1.52'\n",
    "    assert daily_data['K']['Price change'] == '-1.62'\n",
    "    # Energy\n",
    "    assert daily_data['SU']['Price change'] == '+0.21'\n",
    "    assert daily_data['ET']['Price change'] == '+0.22'\n",
    "    assert daily_data['AM']['Price change'] == '+0.01'\n",
    "    # Financial Services\n",
    "    assert daily_data['JPM']['Price change'] == '+2.43'\n",
    "    assert daily_data['PYPL']['Price change'] == '-3.89'\n",
    "    assert daily_data['C']['Price change'] == '+2.30'\n",
    "    # Healthcare\n",
    "    assert daily_data['PFE']['Price change'] == '-0.12'\n",
    "    assert daily_data['BDX']['Price change'] == '-7.89'\n",
    "    assert daily_data['A']['Price change'] == '-0.81'\n",
    "    # Industrials\n",
    "    assert daily_data['CP']['Price change'] == '+8.21'\n",
    "    assert daily_data['ROK']['Price change'] == '+4.04'\n",
    "    assert daily_data['FAST']['Price change'] == '-0.06'\n",
    "    # Real Estate\n",
    "    assert daily_data['O']['Price change'] == '+0.17'\n",
    "    assert daily_data['AVB']['Price change'] == '+0.24'\n",
    "    assert daily_data['A']['Price change'] == '-0.81'\n",
    "    # Utilities\n",
    "    assert daily_data['ES']['Price change'] == '-1.09'\n",
    "    assert daily_data['WEC']['Price change'] == '-0.25'\n",
    "    assert daily_data['NI']['Price change'] == '0.00'\n",
    "    # Technology\n",
    "    assert daily_data['NVDA']['Price change'] == '+3.90'\n",
    "    assert daily_data['MU']['Price change'] == '+2.42'\n",
    "    assert daily_data['IBM']['Price change'] == '-1.74'"
   ]
  },
  {
   "cell_type": "code",
   "execution_count": 8,
   "metadata": {
    "collapsed": false
   },
   "outputs": [
   ],
   "source": [
    "def test_get_change_percentage():\n",
    "    # Basic Materials\n",
    "    assert daily_data['DOW']['Percentage'] == '+4.92%'\n",
    "    assert daily_data['FNV']['Percentage'] == '-1.86%'\n",
    "    assert daily_data['MT']['Percentage'] == '+4.14%'\n",
    "    # Communication Services\n",
    "    assert daily_data['T']['Percentage'] == '-0.79%'\n",
    "    assert daily_data['NFLX']['Percentage'] == '-1.46%'\n",
    "    assert daily_data['ZM']['Percentage'] == '-0.16%'\n",
    "    # Consumer Cyclical\n",
    "    assert daily_data['SBUX']['Percentage'] == '-1.52%'\n",
    "    assert daily_data['NIO']['Percentage'] == '+1.12%'\n",
    "    assert daily_data['GM']['Percentage'] == '+0.79%'\n",
    "    # Consumer Defensive\n",
    "    assert daily_data['TAL']['Percentage'] == '+4.12%'\n",
    "    assert daily_data['PPC']['Percentage'] == '-0.62%'\n",
    "    assert daily_data['BIG']['Percentage'] == '+3.06%'\n",
    "    # Energy\n",
    "    assert daily_data['E']['Percentage'] == '+1.59%'\n",
    "    assert daily_data['TS']['Percentage'] == '+1.33%'\n",
    "    assert daily_data['SUN']['Percentage'] == '+1.37%'\n",
    "    # Financial Services\n",
    "    assert daily_data['MA']['Percentage'] == '-1.56%'\n",
    "    assert daily_data['RY']['Percentage'] == '+1.05%'\n",
    "    assert daily_data['ICE']['Percentage'] == '-0.45%'\n",
    "    # Healthcare\n",
    "    assert daily_data['SEM']['Percentage'] == '+2.15%'\n",
    "    assert daily_data['NFH']['Percentage'] == '+0.36%'\n",
    "    assert daily_data['IVC']['Percentage'] == '+5.45%'\n",
    "    # Industrials\n",
    "    assert daily_data['ROP']['Percentage'] == '-1.68%'\n",
    "    assert daily_data['GNRC']['Percentage'] == '+3.42%'\n",
    "    assert daily_data['TRU']['Percentage'] == '-0.49%'\n",
    "    # Real Estate\n",
    "    assert daily_data['VTR']['Percentage'] == '+1.53%'\n",
    "    assert daily_data['DRE']['Percentage'] == '-0.07%'\n",
    "    assert daily_data['CPT']['Percentage'] == '+1.28%'\n",
    "    # Utilities\n",
    "    assert daily_data['FE']['Percentage'] == '-0.64%'\n",
    "    assert daily_data['NI']['Percentage'] == '0.00%'\n",
    "    assert daily_data['UGI']['Percentage'] == '+1.92%'\n",
    "    # Technology\n",
    "    assert daily_data['UBER']['Percentage'] == '-1.03%'\n",
    "    assert daily_data['SHOP']['Percentage'] == '+3.64%'\n",
    "    assert daily_data['NOW']['Percentage'] == '-0.88%'"
   ]
  },
  {
   "cell_type": "code",
   "execution_count": 9,
   "metadata": {
    "collapsed": false
   },
   "outputs": [
   ],
   "source": [
    "def test_get_volume():\n",
    "    # Basic Materials\n",
    "    assert daily_data['MT']['Volume'][0] == '3'\n",
    "    assert daily_data['MT']['Volume'][-1] == 'M'\n",
    "    assert daily_data['FNV']['Volume'][0] == '1'\n",
    "    assert daily_data['FNV']['Volume'][-1] == 'M'\n",
    "    assert daily_data['OLN']['Volume'][0] == '1'\n",
    "    assert daily_data['OLN']['Volume'][-1] == 'M'\n",
    "    # Communication Services\n",
    "    assert daily_data['IQ']['Volume'][0] == '8'\n",
    "    assert daily_data['IQ']['Volume'][-1] == 'M'\n",
    "    assert daily_data['IQ']['Volume'][0] == '8'\n",
    "    assert daily_data['VIV']['Volume'][0] == '1'\n",
    "    assert daily_data['VIV']['Volume'][-1] == 'M'\n",
    "    # Consumer Cyclical\n",
    "    assert daily_data['TM']['Volume'][0:2] == '23'\n",
    "    assert daily_data['ROST']['Volume'][0] == '1'\n",
    "    assert daily_data['ROST']['Volume'][-1] == 'M'\n",
    "    assert daily_data['F']['Volume'][0] == '4'\n",
    "    assert daily_data['F']['Volume'][-1] == 'M'\n",
    "    # Consumer Defensive\n",
    "    assert daily_data['PG']['Volume'][-1] == 'M'\n",
    "    assert daily_data['SYY']['Volume'][0] == '2'\n",
    "    assert daily_data['SYY']['Volume'][-1] == 'M'\n",
    "    # Financial Services\n",
    "    assert daily_data['BAC']['Volume'][-0] == '5'\n",
    "    assert daily_data['BAC']['Volume'][-1] == 'M'\n",
    "    # Energy\n",
    "    assert daily_data['VLO']['Volume'][0] == '5'\n",
    "    assert daily_data['VLO']['Volume'][-1] == 'M'\n",
    "    # Healthcare\n",
    "    assert daily_data['PFE']['Volume'][0] == '2'\n",
    "    assert daily_data['PFE']['Volume'][-1] == 'M'\n",
    "    # Industrials\n",
    "    assert daily_data['NEE']['Volume'][0] == '9'\n",
    "    assert daily_data['NEE']['Volume'][-1] == 'M'\n",
    "    # Real Estate\n",
    "    assert daily_data['WY']['Volume'][0] == '4'\n",
    "    assert daily_data['WY']['Volume'][-1] == 'M'\n",
    "    # Utilities\n",
    "    assert daily_data['NI']['Volume'][0] == '3'\n",
    "    assert daily_data['NI']['Volume'][-1] == 'M'\n",
    "    # Technology\n",
    "    assert daily_data['ORCL']['Volume'][0] == '1'\n",
    "    assert daily_data['ORCL']['Volume'][-1] == 'M'\n"
   ]
  },
  {
   "cell_type": "code",
   "execution_count": 10,
   "metadata": {
    "collapsed": false
   },
   "outputs": [
   ],
   "source": [
    "def test_calculate_how_many_pages():\n",
    "    assert utilities.calculate_how_many_pages(0) == 0\n",
    "    assert utilities.calculate_how_many_pages(100) == 1\n",
    "    assert utilities.calculate_how_many_pages(1) == 1\n",
    "    assert utilities.calculate_how_many_pages(99) == 1\n",
    "    assert utilities.calculate_how_many_pages(101) == 2\n",
    "    assert utilities.calculate_how_many_pages(199) == 2\n",
    "    assert utilities.calculate_how_many_pages(200) == 2\n",
    "    assert utilities.calculate_how_many_pages(489) == 5\n",
    "    assert utilities.calculate_how_many_pages(2000) == 20\n",
    "    assert utilities.calculate_how_many_pages(96325) == 964"
   ]
  },
  {
   "cell_type": "code",
   "execution_count": 11,
   "metadata": {
    "collapsed": false
   },
   "outputs": [
   ],
   "source": [
    "energy_first_page = BeautifulSoup(open('./first_page_energy.html'), project_conf.HTML_PARSER)"
   ]
  },
  {
   "cell_type": "code",
   "execution_count": 12,
   "metadata": {
    "collapsed": false
   },
   "outputs": [
   ],
   "source": [
    "def test_get_how_many_symbols_in_sector():\n",
    "    assert utilities.get_how_many_symbols_in_sector(BeautifulSoup(open(\"first_page_energy.html\"), project_conf.HTML_PARSER)) == 216\n",
    "    assert utilities.get_how_many_symbols_in_sector(BeautifulSoup(open(\"first_page_tech.html\"), project_conf.HTML_PARSER)) == 444\n",
    "    assert utilities.get_how_many_symbols_in_sector(BeautifulSoup(open(\"first_page_healthcare.html\"), project_conf.HTML_PARSER)) == 469"
   ]
  },
  {
   "cell_type": "code",
   "execution_count": 13,
   "metadata": {
    "collapsed": false
   },
   "outputs": [
   ],
   "source": [
    "def test_build_url():\n",
    "    assert utilities.build_url(\"Energy\", 100, 100) == \"https://finance.yahoo.com/screener/predefined/ms_energy?offset=100&count=100\"\n",
    "    assert utilities.build_url(\"Energy\", 200, 100) == \"https://finance.yahoo.com/screener/predefined/ms_energy?offset=200&count=100\"\n",
    "    assert utilities.build_url(\"Technology\", 0, 100) == \"https://finance.yahoo.com/screener/predefined/ms_technology?offset=0&count=100\"\n"
   ]
  },
  {
   "cell_type": "code",
   "execution_count": 14,
   "metadata": {
    "collapsed": false
   },
   "outputs": [
   ],
   "source": [
    "with open('project_data_mining/1613879942.614056_symbol_sector.json') as data:\n",
    "    sector_data = json.load(data)"
   ]
  },
  {
   "cell_type": "code",
   "execution_count": 24,
   "metadata": {
    "collapsed": false
   },
   "outputs": [
   ],
   "source": [
    "def test_get_data_financial_statements():\n",
    "    # Basic Materials\n",
    "    assert financial_data['RIO']['12/31/2020']['Net Income'] == 9769000\n",
    "    # Communication Services\n",
    "    assert financial_data['DIS']['9/29/2017']['Net Income'] == 8980000\n",
    "\n",
    "\n",
    "    "
   ]
  },
  {
   "cell_type": "code",
   "execution_count": 26,
   "metadata": {
    "collapsed": false
   },
   "outputs": [
    {
     "data": {
      "text/plain": [
       "{'ttm': {'Net Income': 10373000},\n",
       " '9/30/2020': {'Net Income': -2864000},\n",
       " '9/30/2019': {'Net Income': 11054000},\n",
       " '9/30/2018': {'Net Income': 12598000},\n",
       " '9/30/2017': {'Net Income': 8980000}}"
      ]
     },
     "execution_count": 26,
     "metadata": {
     },
     "output_type": "execute_result"
    }
   ],
   "source": [
    "financial_data['DIS']"
   ]
  },
  {
   "cell_type": "code",
   "execution_count": 25,
   "metadata": {
    "collapsed": false
   },
   "outputs": [
    {
     "ename": "KeyError",
     "evalue": "'9/29/2017'",
     "output_type": "error",
     "traceback": [
      "\u001b[0;31m---------------------------------------------------------------------------\u001b[0m",
      "\u001b[0;31mKeyError\u001b[0m                                  Traceback (most recent call last)",
      "\u001b[0;32m<ipython-input-25-762d9b6ec5af>\u001b[0m in \u001b[0;36m<module>\u001b[0;34m\u001b[0m\n\u001b[0;32m----> 1\u001b[0;31m \u001b[0mtest_get_data_financial_statements\u001b[0m\u001b[0;34m(\u001b[0m\u001b[0;34m)\u001b[0m\u001b[0;34m\u001b[0m\u001b[0;34m\u001b[0m\u001b[0m\n\u001b[0m",
      "\u001b[0;32m<ipython-input-24-e9bc31f9a00c>\u001b[0m in \u001b[0;36mtest_get_data_financial_statements\u001b[0;34m()\u001b[0m\n\u001b[1;32m      3\u001b[0m     \u001b[0;32massert\u001b[0m \u001b[0mfinancial_data\u001b[0m\u001b[0;34m[\u001b[0m\u001b[0;34m'RIO'\u001b[0m\u001b[0;34m]\u001b[0m\u001b[0;34m[\u001b[0m\u001b[0;34m'12/31/2020'\u001b[0m\u001b[0;34m]\u001b[0m\u001b[0;34m[\u001b[0m\u001b[0;34m'Net Income'\u001b[0m\u001b[0;34m]\u001b[0m \u001b[0;34m==\u001b[0m \u001b[0;36m9769000\u001b[0m\u001b[0;34m\u001b[0m\u001b[0;34m\u001b[0m\u001b[0m\n\u001b[1;32m      4\u001b[0m     \u001b[0;31m# Communication Services\u001b[0m\u001b[0;34m\u001b[0m\u001b[0;34m\u001b[0m\u001b[0;34m\u001b[0m\u001b[0m\n\u001b[0;32m----> 5\u001b[0;31m     \u001b[0;32massert\u001b[0m \u001b[0mfinancial_data\u001b[0m\u001b[0;34m[\u001b[0m\u001b[0;34m'DIS'\u001b[0m\u001b[0;34m]\u001b[0m\u001b[0;34m[\u001b[0m\u001b[0;34m'9/29/2017'\u001b[0m\u001b[0;34m]\u001b[0m\u001b[0;34m[\u001b[0m\u001b[0;34m'Net Income'\u001b[0m\u001b[0;34m]\u001b[0m \u001b[0;34m==\u001b[0m \u001b[0;36m8980000\u001b[0m\u001b[0;34m\u001b[0m\u001b[0;34m\u001b[0m\u001b[0m\n\u001b[0m",
      "\u001b[0;31mKeyError\u001b[0m: '9/29/2017'"
     ]
    }
   ],
   "source": [
    "test_get_data_financial_statements()"
   ]
  },
  {
   "cell_type": "code",
   "execution_count": 18,
   "metadata": {
    "collapsed": false
   },
   "outputs": [
   ],
   "source": [
    "\n",
    "with open('./project_data_mining/1613879942.649945_financials.json') as data:\n",
    "    financial_data = json.load(data)"
   ]
  },
  {
   "cell_type": "code",
   "execution_count": 0,
   "metadata": {
    "collapsed": false
   },
   "outputs": [
   ],
   "source": [
    "sector_data['TSLA']"
   ]
  },
  {
   "cell_type": "code",
   "execution_count": 0,
   "metadata": {
    "collapsed": false
   },
   "outputs": [
   ],
   "source": [
    "test_calculate_how_many_pages()"
   ]
  },
  {
   "cell_type": "code",
   "execution_count": 0,
   "metadata": {
    "collapsed": false
   },
   "outputs": [
   ],
   "source": [
    "test_get_volume()"
   ]
  },
  {
   "cell_type": "code",
   "execution_count": 0,
   "metadata": {
    "collapsed": false,
    "scrolled": true
   },
   "outputs": [
   ],
   "source": [
    "test_get_price()\n",
    "test_get_change()\n",
    "test_get_change_percentage()\n",
    "test_get_volume()\n",
    "test_calculate_how_many_pages()\n",
    "test_get_how_many_symbols_in_sector()\n",
    "test_build_url()"
   ]
  },
  {
   "cell_type": "code",
   "execution_count": 30,
   "metadata": {
    "collapsed": false
   },
   "outputs": [
    {
     "name": "stdout",
     "output_type": "stream",
     "text": [
      "1613879942.508324_daily_data.json     get_data_of_financial_statements.py\r\n",
      "1613879942.614056_symbol_sector.json  logger.py\r\n",
      "1613879942.649945_financials.json     main_file.py\r\n",
      "README.md\t\t\t      project_conf.py\r\n",
      "__pycache__\t\t\t      requests_webpages.py\r\n",
      "data_mining.log\t\t\t      requirements.txt\r\n",
      "environment.yml\t\t\t      utilities.py\r\n",
      "get_daily_data.py\r\n"
     ]
    }
   ],
   "source": [
    "!ls ./project_data_mining"
   ]
  },
  {
   "cell_type": "code",
   "execution_count": 35,
   "metadata": {
    "collapsed": false
   },
   "outputs": [
   ],
   "source": [
    "!chmod 777 ./project_data_mining/main_file.py"
   ]
  },
  {
   "cell_type": "code",
   "execution_count": 36,
   "metadata": {
    "collapsed": false
   },
   "outputs": [
    {
     "name": "stdout",
     "output_type": "stream",
     "text": [
      "import-im6.q16: unable to open X server `:0' @ error/import.c/ImportImageCommand/359.\r\n",
      "import-im6.q16: unable to open X server `:0' @ error/import.c/ImportImageCommand/359.\r\n",
      "import-im6.q16: unable to open X server `:0' @ error/import.c/ImportImageCommand/359.\r\n",
      "import-im6.q16: unable to open X server `:0' @ error/import.c/ImportImageCommand/359.\r\n",
      "./project_data_mining/main_file.py: 6: Syntax error: \"(\" unexpected\r\n"
     ]
    }
   ],
   "source": [
    "!./project_data_mining/main_file.py"
   ]
  }
 ],
 "metadata": {
  "kernelspec": {
   "display_name": "Python 3 (system-wide)",
   "language": "python",
   "metadata": {
    "cocalc": {
     "description": "Python 3 programming language",
     "priority": 100,
     "url": "https://www.python.org/"
    }
   },
   "name": "python3",
   "resource_dir": "/ext/jupyter/kernels/python3"
  },
  "language_info": {
   "codemirror_mode": {
    "name": "ipython",
    "version": 3
   },
   "file_extension": ".py",
   "mimetype": "text/x-python",
   "name": "python",
   "nbconvert_exporter": "python",
   "pygments_lexer": "ipython3",
   "version": "3.8.5"
  }
 },
 "nbformat": 4,
 "nbformat_minor": 4
}