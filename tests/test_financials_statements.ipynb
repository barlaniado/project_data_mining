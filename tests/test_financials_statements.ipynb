{
 "cells": [
  {
   "cell_type": "code",
   "execution_count": 0,
   "metadata": {
    "collapsed": false
   },
   "outputs": [
   ],
   "source": [
   ]
  },
  {
   "cell_type": "code",
   "execution_count": 0,
   "metadata": {
    "collapsed": false
   },
   "outputs": [
   ],
   "source": [
    "with open('./project_data_mining/1613879942.649945_financials.json') as data:\n",
    "    financial_data = json.load(data)\n",
    "def test_get_data_financial_statements():\n",
    "    # Basic Materials\n",
    "    assert financial_data['RIO']['12/31/2020']['Net Income'] == 9769000\n",
    "    # Communication Services\n",
    "    assert financial_data['DIS']['9/29/2017']['Net Income'] == 8980000"
   ]
  }
 ],
 "metadata": {
  "kernelspec": {
   "display_name": "Python 3 (system-wide)",
   "language": "python",
   "metadata": {
    "cocalc": {
     "description": "Python 3 programming language",
     "priority": 100,
     "url": "https://www.python.org/"
    }
   },
   "name": "python3",
   "resource_dir": "/ext/jupyter/kernels/python3"
  }
 },
 "nbformat": 4,
 "nbformat_minor": 4
}